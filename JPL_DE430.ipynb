{
 "cells": [
  {
   "cell_type": "markdown",
   "metadata": {},
   "source": [
    "# DEMO: Accessing NASA JPL Digital Ephemeris through Python\n",
    "\n",
    "\n",
    "\n"
   ]
  },
  {
   "cell_type": "code",
   "execution_count": 112,
   "metadata": {},
   "outputs": [],
   "source": [
    "# spiceypy is a python wrapper for NASA NAIF SPICE toolkit\n",
    "# https://naif.jpl.nasa.gov/naif/toolkit.html\n",
    "# https://spiceypy.readthedocs.io/en/master/\n",
    "import spiceypy as sp"
   ]
  },
  {
   "cell_type": "code",
   "execution_count": 113,
   "metadata": {},
   "outputs": [],
   "source": [
    "# List of SPICE kernels. DE4xx planetary ephemeris must come first.\n",
    "# https://naif.jpl.nasa.gov/pub/naif/generic_kernels/spk/planets/\n",
    "spkFiles=['de430.bsp']"
   ]
  },
  {
   "cell_type": "code",
   "execution_count": 114,
   "metadata": {},
   "outputs": [],
   "source": [
    "# SPICE uses integer identifyiers for planets in DE4xx ephemeris files \n",
    "Ephemdict={'Sun':10, 'Mercury':1, 'Venus':2, 'Earth':399, 'Moon':301,\n",
    "        'Mars':4, 'Jupiter':5,  'Saturn':6, 'Uranus':7, 'Neptune':8,\n",
    "        'Pluto':9}"
   ]
  },
  {
   "cell_type": "code",
   "execution_count": 115,
   "metadata": {},
   "outputs": [],
   "source": [
    "def loadSpiceKernels(spkfiles=spkFiles):\n",
    "    \"\"\" Load NASA NAIF spice kernels such as \n",
    "    DE4xx planetary ephemeris into memory for later access. \n",
    "    If multiple spice kernels are loaded, planetary ephemeris must \n",
    "    be loaded first.\n",
    "    \n",
    "    Parameters:\n",
    "    -----------\n",
    "    spkfiles ... path to spice kernel files\n",
    "    \n",
    "    Raises:\n",
    "    -------\n",
    "    ValueError\n",
    "    \"\"\"\n",
    "    for f in spkfiles:\n",
    "        try:\n",
    "            sp.furnsh(f)\n",
    "        except:\n",
    "            raise ValueError('Error in loadSpiceKernels: could not load spice file:', f)\n",
    "    return"
   ]
  },
  {
   "cell_type": "code",
   "execution_count": 116,
   "metadata": {},
   "outputs": [],
   "source": [
    "def getDEstate(target,t,frame='ECLIPJ2000'):\n",
    "    \"\"\"Read state vector of target from DExxx ephemeris.\n",
    "    \n",
    "    Parameters:\n",
    "    -----------\n",
    "    \n",
    "    target: Integer\n",
    "        Spice Kernel ID\n",
    "        {'Sun':10, 'Mercury':1, 'Venus':2, 'Earth':399, 'Moon':301,\n",
    "        'Mars':4, 'Jupiter':5,  'Saturn':6, 'Uranus':7, 'Neptune':8,\n",
    "        'Pluto':9}\n",
    "        \n",
    "    t: float\n",
    "        ephemeris time (ephemeris seconds beyond epoch J2000)\n",
    "    \n",
    "    frame: str\n",
    "        'J2000': ICRF (=EME2000) , 'ECLIP2000': Ecliptic frame\n",
    "    \n",
    "    Returns:\n",
    "    --------\n",
    "    state vector (x,y,z,vx,vy,vz) in units of km and km/s\n",
    "    \"\"\"\n",
    "    return sp.spkez(target,t,frame,'NONE',0)[0]"
   ]
  },
  {
   "cell_type": "code",
   "execution_count": 117,
   "metadata": {},
   "outputs": [],
   "source": [
    "def mjd2et(MJD):\n",
    "    \"\"\"Converts modified Julian Date to JPL NAIF SPICE Ephemeris time.\n",
    "    Only valid for TDB timescales.\n",
    "    \n",
    "    Parameters:\n",
    "    -----------\n",
    "    MJD ... modified Julian Day\n",
    "    \n",
    "    Returns:\n",
    "    --------\n",
    "    ET ... ephemeris time (ephemeris seconds beyond epoch J2000)\n",
    "\n",
    "    \"\"\"\n",
    "    ET=(MJD+2400000.5-2451545.0)*86400\n",
    "    return ET\n"
   ]
  },
  {
   "cell_type": "markdown",
   "metadata": {},
   "source": [
    "### Step 1: Download DE4xx ephemeris files into your working folder\n",
    "https://naif.jpl.nasa.gov/pub/naif/generic_kernels/spk/planets/"
   ]
  },
  {
   "cell_type": "markdown",
   "metadata": {},
   "source": [
    "### Step 2: Load ephemeris files into memory"
   ]
  },
  {
   "cell_type": "code",
   "execution_count": 118,
   "metadata": {},
   "outputs": [],
   "source": [
    "try:\n",
    "    loadSpiceKernels(spkFiles)\n",
    "except:\n",
    "    raise ValueError('Error: Could not load SPICE Kernels. Please check file path.')"
   ]
  },
  {
   "cell_type": "markdown",
   "metadata": {},
   "source": [
    "### Step 3: Define time for output in MJD as well as the target body and read the corresponding state vector from the Ephemeris file "
   ]
  },
  {
   "cell_type": "code",
   "execution_count": 119,
   "metadata": {},
   "outputs": [],
   "source": [
    "t=59600\n",
    "au=149597870.7"
   ]
  },
  {
   "cell_type": "code",
   "execution_count": 120,
   "metadata": {},
   "outputs": [],
   "source": [
    "Earth_pos=getDEstate(Ephemdict['Earth'], mjd2et(t),frame='J2000')[0:3]/au"
   ]
  },
  {
   "cell_type": "code",
   "execution_count": 121,
   "metadata": {},
   "outputs": [
    {
     "name": "stdout",
     "output_type": "stream",
     "text": [
      "[-0.50963722  0.77991865  0.3382822 ]\n"
     ]
    }
   ],
   "source": [
    "print(Earth_pos)"
   ]
  },
  {
   "cell_type": "markdown",
   "metadata": {},
   "source": [
    "### Plot the orbit of the Earth "
   ]
  },
  {
   "cell_type": "code",
   "execution_count": 122,
   "metadata": {},
   "outputs": [],
   "source": [
    "tt=range(59600,60000)"
   ]
  },
  {
   "cell_type": "code",
   "execution_count": 123,
   "metadata": {},
   "outputs": [],
   "source": [
    "Earth_pos_tt=[]\n",
    "for t in tt:\n",
    "    Earth_pos_tt.append(getDEstate(Ephemdict['Earth'], mjd2et(t),frame='J2000')[0:3]/au)"
   ]
  },
  {
   "cell_type": "code",
   "execution_count": 128,
   "metadata": {},
   "outputs": [],
   "source": [
    "import numpy as np\n",
    "pos=np.array(Earth_pos_tt)"
   ]
  },
  {
   "cell_type": "code",
   "execution_count": 132,
   "metadata": {},
   "outputs": [
    {
     "data": {
      "text/plain": [
       "[]"
      ]
     },
     "execution_count": 132,
     "metadata": {},
     "output_type": "execute_result"
    },
    {
     "data": {
      "image/png": "[encoded data removed]",
      "text/plain": [
       "<Figure size 450x450 with 1 Axes>"
      ]
     },
     "metadata": {
      "needs_background": "light"
     },
     "output_type": "display_data"
    }
   ],
   "source": [
    "import matplotlib.pyplot as plt\n",
    "plt.figure(dpi=150,figsize=(3,3))\n",
    "plt.scatter(pos[:,0],pos[:,1], s=0.2, label='Earth')\n",
    "plt.xlabel('x [au]')\n",
    "plt.ylabel('y [au]')\n",
    "plt.legend()\n",
    "plt.plot()"
   ]
  },
  {
   "cell_type": "code",
   "execution_count": null,
   "metadata": {},
   "outputs": [],
   "source": []
  }
 ],
 "metadata": {
  "kernelspec": {
   "display_name": "Python 3",
   "language": "python",
   "name": "python3"
  },
  "language_info": {
   "codemirror_mode": {
    "name": "ipython",
    "version": 3
   },
   "file_extension": ".py",
   "mimetype": "text/x-python",
   "name": "python",
   "nbconvert_exporter": "python",
   "pygments_lexer": "ipython3",
   "version": "3.7.3"
  }
 },
 "nbformat": 4,
 "nbformat_minor": 2
}
